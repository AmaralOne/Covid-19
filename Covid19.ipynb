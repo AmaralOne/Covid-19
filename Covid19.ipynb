{
  "nbformat": 4,
  "nbformat_minor": 0,
  "metadata": {
    "colab": {
      "name": "Covid19.ipynb",
      "provenance": [],
      "collapsed_sections": [],
      "authorship_tag": "ABX9TyMN/UCfkMIW6yTgHyU+UfVH",
      "include_colab_link": true
    },
    "kernelspec": {
      "name": "python3",
      "display_name": "Python 3"
    }
  },
  "cells": [
    {
      "cell_type": "markdown",
      "metadata": {
        "id": "view-in-github",
        "colab_type": "text"
      },
      "source": [
        "<a href=\"https://colab.research.google.com/github/AmaralOne/Covid-19/blob/master/Covid19.ipynb\" target=\"_parent\"><img src=\"https://colab.research.google.com/assets/colab-badge.svg\" alt=\"Open In Colab\"/></a>"
      ]
    },
    {
      "cell_type": "code",
      "metadata": {
        "id": "5vf5dQ1O4s7U",
        "colab_type": "code",
        "colab": {}
      },
      "source": [
        "import pandas as pd\n",
        "import numpy as np\n",
        "import matplotlib.pyplot as plt"
      ],
      "execution_count": 0,
      "outputs": []
    },
    {
      "cell_type": "code",
      "metadata": {
        "id": "Mo7aSLKt4-7S",
        "colab_type": "code",
        "colab": {}
      },
      "source": [
        "casos = pd.read_csv('https://raw.githubusercontent.com/CSSEGISandData/COVID-19/master/csse_covid_19_data/csse_covid_19_time_series/time_series_19-covid-Confirmed.csv')"
      ],
      "execution_count": 0,
      "outputs": []
    },
    {
      "cell_type": "code",
      "metadata": {
        "id": "znQBtObm5Q7J",
        "colab_type": "code",
        "colab": {
          "base_uri": "https://localhost:8080/",
          "height": 34
        },
        "outputId": "1b96cbce-9322-4354-db86-7bc29170cf53"
      },
      "source": [
        "casos.shape"
      ],
      "execution_count": 4,
      "outputs": [
        {
          "output_type": "execute_result",
          "data": {
            "text/plain": [
              "(468, 62)"
            ]
          },
          "metadata": {
            "tags": []
          },
          "execution_count": 4
        }
      ]
    },
    {
      "cell_type": "markdown",
      "metadata": {
        "id": "Dyb1FziA6BsM",
        "colab_type": "text"
      },
      "source": [
        "# **Casos Do Mundo**\n",
        "\n"
      ]
    },
    {
      "cell_type": "code",
      "metadata": {
        "id": "IN-X8Ues5V5y",
        "colab_type": "code",
        "colab": {
          "base_uri": "https://localhost:8080/",
          "height": 119
        },
        "outputId": "33e43614-c5fc-42ad-fd7e-f3552933ba04"
      },
      "source": [
        "casos = np.sum(casos.iloc[:,4:casos.shape[1]])\n",
        "casos.index = pd.DatetimeIndex(casos.index)\n",
        "casos.tail()"
      ],
      "execution_count": 65,
      "outputs": [
        {
          "output_type": "execute_result",
          "data": {
            "text/plain": [
              "2020-03-15    167446\n",
              "2020-03-16    181527\n",
              "2020-03-17    197142\n",
              "2020-03-18    214910\n",
              "2020-03-19    242708\n",
              "dtype: int64"
            ]
          },
          "metadata": {
            "tags": []
          },
          "execution_count": 65
        }
      ]
    },
    {
      "cell_type": "code",
      "metadata": {
        "id": "aUQezf_l589D",
        "colab_type": "code",
        "colab": {
          "base_uri": "https://localhost:8080/",
          "height": 317
        },
        "outputId": "42a059ae-79b7-46d9-d836-3f7a37cc9328"
      },
      "source": [
        "casos.plot()"
      ],
      "execution_count": 51,
      "outputs": [
        {
          "output_type": "execute_result",
          "data": {
            "text/plain": [
              "<matplotlib.axes._subplots.AxesSubplot at 0x7f9f4209e320>"
            ]
          },
          "metadata": {
            "tags": []
          },
          "execution_count": 51
        },
        {
          "output_type": "display_data",
          "data": {
            "image/png": "[encoded data removed]",
            "text/plain": [
              "<Figure size 432x288 with 1 Axes>"
            ]
          },
          "metadata": {
            "tags": []
          }
        }
      ]
    },
    {
      "cell_type": "code",
      "metadata": {
        "id": "5OhOisj96eYE",
        "colab_type": "code",
        "colab": {}
      },
      "source": [
        "mortes = pd.read_csv('https://raw.githubusercontent.com/CSSEGISandData/COVID-19/master/csse_covid_19_data/csse_covid_19_time_series/time_series_19-covid-Deaths.csv')"
      ],
      "execution_count": 0,
      "outputs": []
    },
    {
      "cell_type": "code",
      "metadata": {
        "id": "EVlcJ6ky63XK",
        "colab_type": "code",
        "colab": {
          "base_uri": "https://localhost:8080/",
          "height": 34
        },
        "outputId": "7769e095-bb83-4660-fb09-64ef9c0741de"
      },
      "source": [
        "mortes.shape"
      ],
      "execution_count": 9,
      "outputs": [
        {
          "output_type": "execute_result",
          "data": {
            "text/plain": [
              "(468, 62)"
            ]
          },
          "metadata": {
            "tags": []
          },
          "execution_count": 9
        }
      ]
    },
    {
      "cell_type": "code",
      "metadata": {
        "id": "wYuJngk66wgz",
        "colab_type": "code",
        "colab": {
          "base_uri": "https://localhost:8080/",
          "height": 119
        },
        "outputId": "6d033148-e685-4142-a47a-08c2e7b772fd"
      },
      "source": [
        "mortes = np.sum(mortes.iloc[:,4:mortes.shape[1]])\n",
        "mortes.index = pd.DatetimeIndex(mortes.index)\n",
        "mortes.tail()"
      ],
      "execution_count": 67,
      "outputs": [
        {
          "output_type": "execute_result",
          "data": {
            "text/plain": [
              "2020-03-15    6440\n",
              "2020-03-16    7126\n",
              "2020-03-17    7905\n",
              "2020-03-18    8733\n",
              "2020-03-19    9867\n",
              "dtype: int64"
            ]
          },
          "metadata": {
            "tags": []
          },
          "execution_count": 67
        }
      ]
    },
    {
      "cell_type": "markdown",
      "metadata": {
        "id": "HcZWg-VX7D8J",
        "colab_type": "text"
      },
      "source": [
        "# **Mortes do Mundo**"
      ]
    },
    {
      "cell_type": "code",
      "metadata": {
        "id": "UhBpaVsO68zt",
        "colab_type": "code",
        "colab": {
          "base_uri": "https://localhost:8080/",
          "height": 317
        },
        "outputId": "3ea80bc3-37d4-432c-c4df-dceeb8e1ca28"
      },
      "source": [
        "mortes.plot()"
      ],
      "execution_count": 12,
      "outputs": [
        {
          "output_type": "execute_result",
          "data": {
            "text/plain": [
              "<matplotlib.axes._subplots.AxesSubplot at 0x7f9f442a2860>"
            ]
          },
          "metadata": {
            "tags": []
          },
          "execution_count": 12
        },
        {
          "output_type": "display_data",
          "data": {
            "image/png": "[encoded data removed]",
            "text/plain": [
              "<Figure size 432x288 with 1 Axes>"
            ]
          },
          "metadata": {
            "tags": []
          }
        }
      ]
    },
    {
      "cell_type": "code",
      "metadata": {
        "id": "pQxS5Cag7MRO",
        "colab_type": "code",
        "colab": {}
      },
      "source": [
        "mortalidade = (mortes/casos)*100"
      ],
      "execution_count": 0,
      "outputs": []
    },
    {
      "cell_type": "code",
      "metadata": {
        "id": "QxO5i6iVGsJu",
        "colab_type": "code",
        "colab": {
          "base_uri": "https://localhost:8080/",
          "height": 318
        },
        "outputId": "da55ad92-ec63-4ef4-caed-9032a240756e"
      },
      "source": [
        "    mortalidade = (mortes/casos)*100\n",
        "    plt.plot(mortalidade, color = 'black')\n",
        "    plt.xlabel('Dias')\n",
        "    plt.ylabel('Taxa de Mortalidade')\n",
        "    plt.title('COVID-19 no Mundo')\n",
        "    plt.legend()\n",
        "    plt.gcf().autofmt_xdate()\n",
        "    plt.show()"
      ],
      "execution_count": 68,
      "outputs": [
        {
          "output_type": "stream",
          "text": [
            "No handles with labels found to put in legend.\n"
          ],
          "name": "stderr"
        },
        {
          "output_type": "display_data",
          "data": {
            "image/png": "[encoded data removed]",
            "text/plain": [
              "<Figure size 432x288 with 1 Axes>"
            ]
          },
          "metadata": {
            "tags": []
          }
        }
      ]
    },
    {
      "cell_type": "markdown",
      "metadata": {
        "id": "6XP-254d7XwN",
        "colab_type": "text"
      },
      "source": [
        "# **Taxa de Mortalidade**"
      ]
    },
    {
      "cell_type": "code",
      "metadata": {
        "id": "RQEsxu537Rip",
        "colab_type": "code",
        "colab": {
          "base_uri": "https://localhost:8080/",
          "height": 317
        },
        "outputId": "488fa864-0a15-4640-a5c3-4da8ac5c12af"
      },
      "source": [
        "mortalidade.plot()"
      ],
      "execution_count": 14,
      "outputs": [
        {
          "output_type": "execute_result",
          "data": {
            "text/plain": [
              "<matplotlib.axes._subplots.AxesSubplot at 0x7f9f442a24e0>"
            ]
          },
          "metadata": {
            "tags": []
          },
          "execution_count": 14
        },
        {
          "output_type": "display_data",
          "data": {
            "image/png": "[encoded data removed]",
            "text/plain": [
              "<Figure size 432x288 with 1 Axes>"
            ]
          },
          "metadata": {
            "tags": []
          }
        }
      ]
    },
    {
      "cell_type": "code",
      "metadata": {
        "id": "JrHFbeaM7lQC",
        "colab_type": "code",
        "colab": {}
      },
      "source": [
        "recuperados = pd.read_csv('https://raw.githubusercontent.com/CSSEGISandData/COVID-19/master/csse_covid_19_data/csse_covid_19_time_series/time_series_19-covid-Recovered.csv')"
      ],
      "execution_count": 0,
      "outputs": []
    },
    {
      "cell_type": "code",
      "metadata": {
        "id": "ROVBH4ya7yv5",
        "colab_type": "code",
        "colab": {
          "base_uri": "https://localhost:8080/",
          "height": 119
        },
        "outputId": "c22c84cf-e2b9-4639-c1c8-e4ade06815dc"
      },
      "source": [
        "recuperados = np.sum(recuperados.iloc[:,4:recuperados.shape[1]])\n",
        "recuperados.index = pd.DatetimeIndex(recuperados.index)\n",
        "recuperados.tail()"
      ],
      "execution_count": 16,
      "outputs": [
        {
          "output_type": "execute_result",
          "data": {
            "text/plain": [
              "2020-03-15    76034\n",
              "2020-03-16    78088\n",
              "2020-03-17    80840\n",
              "2020-03-18    83207\n",
              "2020-03-19    84854\n",
              "dtype: int64"
            ]
          },
          "metadata": {
            "tags": []
          },
          "execution_count": 16
        }
      ]
    },
    {
      "cell_type": "markdown",
      "metadata": {
        "id": "6c4Oj-Zg74eH",
        "colab_type": "text"
      },
      "source": [
        "# **Recuperados no Mundo**"
      ]
    },
    {
      "cell_type": "code",
      "metadata": {
        "id": "23Zqu_a3782T",
        "colab_type": "code",
        "colab": {
          "base_uri": "https://localhost:8080/",
          "height": 317
        },
        "outputId": "98ed7b68-a38b-474d-f24a-af3f23c79676"
      },
      "source": [
        "recuperados.plot()"
      ],
      "execution_count": 17,
      "outputs": [
        {
          "output_type": "execute_result",
          "data": {
            "text/plain": [
              "<matplotlib.axes._subplots.AxesSubplot at 0x7f9f428ca588>"
            ]
          },
          "metadata": {
            "tags": []
          },
          "execution_count": 17
        },
        {
          "output_type": "display_data",
          "data": {
            "image/png": "[encoded data removed]",
            "text/plain": [
              "<Figure size 432x288 with 1 Axes>"
            ]
          },
          "metadata": {
            "tags": []
          }
        }
      ]
    },
    {
      "cell_type": "markdown",
      "metadata": {
        "id": "7AoS016d8IkZ",
        "colab_type": "text"
      },
      "source": [
        "# **Comparação de Casos, Morte e Recuperação**"
      ]
    },
    {
      "cell_type": "code",
      "metadata": {
        "id": "hARy2v4M8PJT",
        "colab_type": "code",
        "colab": {
          "base_uri": "https://localhost:8080/",
          "height": 301
        },
        "outputId": "c07b352e-ab02-471b-8248-a2ac804de2cc"
      },
      "source": [
        "    plt.plot(casos, color = 'black', label = 'Casos')\n",
        "    plt.plot(mortes, color = 'red', label = 'Mortes')\n",
        "    plt.plot(recuperados, color = 'green', label = 'Recuperados')\n",
        "    plt.xlabel('Dias')\n",
        "    plt.ylabel('Número')\n",
        "    plt.title('COVID-19 no Mundo')\n",
        "    plt.legend()\n",
        "    plt.gcf().autofmt_xdate()\n",
        "    plt.show()"
      ],
      "execution_count": 22,
      "outputs": [
        {
          "output_type": "display_data",
          "data": {
            "image/png": "[encoded data removed]",
            "text/plain": [
              "<Figure size 432x288 with 1 Axes>"
            ]
          },
          "metadata": {
            "tags": []
          }
        }
      ]
    },
    {
      "cell_type": "markdown",
      "metadata": {
        "id": "Ng5xPYEWC8go",
        "colab_type": "text"
      },
      "source": [
        "# **Casos Italia**"
      ]
    },
    {
      "cell_type": "code",
      "metadata": {
        "id": "YwHlIv5BDAFC",
        "colab_type": "code",
        "colab": {}
      },
      "source": [
        "casos = pd.read_csv('https://raw.githubusercontent.com/CSSEGISandData/COVID-19/master/csse_covid_19_data/csse_covid_19_time_series/time_series_19-covid-Confirmed.csv')\n",
        "mortes = pd.read_csv('https://raw.githubusercontent.com/CSSEGISandData/COVID-19/master/csse_covid_19_data/csse_covid_19_time_series/time_series_19-covid-Deaths.csv')\n",
        "recuperados = pd.read_csv('https://raw.githubusercontent.com/CSSEGISandData/COVID-19/master/csse_covid_19_data/csse_covid_19_time_series/time_series_19-covid-Recovered.csv')"
      ],
      "execution_count": 0,
      "outputs": []
    },
    {
      "cell_type": "code",
      "metadata": {
        "id": "aXW_QFlfDGPO",
        "colab_type": "code",
        "colab": {
          "base_uri": "https://localhost:8080/",
          "height": 224
        },
        "outputId": "77d3801c-e350-4aac-f764-33854df3ac6a"
      },
      "source": [
        "casos.tail()"
      ],
      "execution_count": 24,
      "outputs": [
        {
          "output_type": "execute_result",
          "data": {
            "text/html": [
              "<div>\n",
              "<style scoped>\n",
              "    .dataframe tbody tr th:only-of-type {\n",
              "        vertical-align: middle;\n",
              "    }\n",
              "\n",
              "    .dataframe tbody tr th {\n",
              "        vertical-align: top;\n",
              "    }\n",
              "\n",
              "    .dataframe thead th {\n",
              "        text-align: right;\n",
              "    }\n",
              "</style>\n",
              "<table border=\"1\" class=\"dataframe\">\n",
              "  <thead>\n",
              "    <tr style=\"text-align: right;\">\n",
              "      <th></th>\n",
              "      <th>Province/State</th>\n",
              "      <th>Country/Region</th>\n",
              "      <th>Lat</th>\n",
              "      <th>Long</th>\n",
              "      <th>1/22/20</th>\n",
              "      <th>1/23/20</th>\n",
              "      <th>1/24/20</th>\n",
              "      <th>1/25/20</th>\n",
              "      <th>1/26/20</th>\n",
              "      <th>1/27/20</th>\n",
              "      <th>1/28/20</th>\n",
              "      <th>1/29/20</th>\n",
              "      <th>1/30/20</th>\n",
              "      <th>1/31/20</th>\n",
              "      <th>2/1/20</th>\n",
              "      <th>2/2/20</th>\n",
              "      <th>2/3/20</th>\n",
              "      <th>2/4/20</th>\n",
              "      <th>2/5/20</th>\n",
              "      <th>2/6/20</th>\n",
              "      <th>2/7/20</th>\n",
              "      <th>2/8/20</th>\n",
              "      <th>2/9/20</th>\n",
              "      <th>2/10/20</th>\n",
              "      <th>2/11/20</th>\n",
              "      <th>2/12/20</th>\n",
              "      <th>2/13/20</th>\n",
              "      <th>2/14/20</th>\n",
              "      <th>2/15/20</th>\n",
              "      <th>2/16/20</th>\n",
              "      <th>2/17/20</th>\n",
              "      <th>2/18/20</th>\n",
              "      <th>2/19/20</th>\n",
              "      <th>2/20/20</th>\n",
              "      <th>2/21/20</th>\n",
              "      <th>2/22/20</th>\n",
              "      <th>2/23/20</th>\n",
              "      <th>2/24/20</th>\n",
              "      <th>2/25/20</th>\n",
              "      <th>2/26/20</th>\n",
              "      <th>2/27/20</th>\n",
              "      <th>2/28/20</th>\n",
              "      <th>2/29/20</th>\n",
              "      <th>3/1/20</th>\n",
              "      <th>3/2/20</th>\n",
              "      <th>3/3/20</th>\n",
              "      <th>3/4/20</th>\n",
              "      <th>3/5/20</th>\n",
              "      <th>3/6/20</th>\n",
              "      <th>3/7/20</th>\n",
              "      <th>3/8/20</th>\n",
              "      <th>3/9/20</th>\n",
              "      <th>3/10/20</th>\n",
              "      <th>3/11/20</th>\n",
              "      <th>3/12/20</th>\n",
              "      <th>3/13/20</th>\n",
              "      <th>3/14/20</th>\n",
              "      <th>3/15/20</th>\n",
              "      <th>3/16/20</th>\n",
              "      <th>3/17/20</th>\n",
              "      <th>3/18/20</th>\n",
              "      <th>3/19/20</th>\n",
              "    </tr>\n",
              "  </thead>\n",
              "  <tbody>\n",
              "    <tr>\n",
              "      <th>463</th>\n",
              "      <td>Bermuda</td>\n",
              "      <td>United Kingdom</td>\n",
              "      <td>32.3078</td>\n",
              "      <td>-64.7505</td>\n",
              "      <td>0</td>\n",
              "      <td>0</td>\n",
              "      <td>0</td>\n",
              "      <td>0</td>\n",
              "      <td>0</td>\n",
              "      <td>0</td>\n",
              "      <td>0</td>\n",
              "      <td>0</td>\n",
              "      <td>0</td>\n",
              "      <td>0</td>\n",
              "      <td>0</td>\n",
              "      <td>0</td>\n",
              "      <td>0</td>\n",
              "      <td>0</td>\n",
              "      <td>0</td>\n",
              "      <td>0</td>\n",
              "      <td>0</td>\n",
              "      <td>0</td>\n",
              "      <td>0</td>\n",
              "      <td>0</td>\n",
              "      <td>0</td>\n",
              "      <td>0</td>\n",
              "      <td>0</td>\n",
              "      <td>0</td>\n",
              "      <td>0</td>\n",
              "      <td>0</td>\n",
              "      <td>0</td>\n",
              "      <td>0</td>\n",
              "      <td>0</td>\n",
              "      <td>0</td>\n",
              "      <td>0</td>\n",
              "      <td>0</td>\n",
              "      <td>0</td>\n",
              "      <td>0</td>\n",
              "      <td>0</td>\n",
              "      <td>0</td>\n",
              "      <td>0</td>\n",
              "      <td>0</td>\n",
              "      <td>0</td>\n",
              "      <td>0</td>\n",
              "      <td>0</td>\n",
              "      <td>0</td>\n",
              "      <td>0</td>\n",
              "      <td>0</td>\n",
              "      <td>0</td>\n",
              "      <td>0</td>\n",
              "      <td>0</td>\n",
              "      <td>0</td>\n",
              "      <td>0</td>\n",
              "      <td>0</td>\n",
              "      <td>0</td>\n",
              "      <td>0</td>\n",
              "      <td>0</td>\n",
              "      <td>0</td>\n",
              "      <td>0</td>\n",
              "      <td>0</td>\n",
              "      <td>0</td>\n",
              "      <td>2</td>\n",
              "    </tr>\n",
              "    <tr>\n",
              "      <th>464</th>\n",
              "      <td>NaN</td>\n",
              "      <td>Chad</td>\n",
              "      <td>15.4542</td>\n",
              "      <td>18.7322</td>\n",
              "      <td>0</td>\n",
              "      <td>0</td>\n",
              "      <td>0</td>\n",
              "      <td>0</td>\n",
              "      <td>0</td>\n",
              "      <td>0</td>\n",
              "      <td>0</td>\n",
              "      <td>0</td>\n",
              "      <td>0</td>\n",
              "      <td>0</td>\n",
              "      <td>0</td>\n",
              "      <td>0</td>\n",
              "      <td>0</td>\n",
              "      <td>0</td>\n",
              "      <td>0</td>\n",
              "      <td>0</td>\n",
              "      <td>0</td>\n",
              "      <td>0</td>\n",
              "      <td>0</td>\n",
              "      <td>0</td>\n",
              "      <td>0</td>\n",
              "      <td>0</td>\n",
              "      <td>0</td>\n",
              "      <td>0</td>\n",
              "      <td>0</td>\n",
              "      <td>0</td>\n",
              "      <td>0</td>\n",
              "      <td>0</td>\n",
              "      <td>0</td>\n",
              "      <td>0</td>\n",
              "      <td>0</td>\n",
              "      <td>0</td>\n",
              "      <td>0</td>\n",
              "      <td>0</td>\n",
              "      <td>0</td>\n",
              "      <td>0</td>\n",
              "      <td>0</td>\n",
              "      <td>0</td>\n",
              "      <td>0</td>\n",
              "      <td>0</td>\n",
              "      <td>0</td>\n",
              "      <td>0</td>\n",
              "      <td>0</td>\n",
              "      <td>0</td>\n",
              "      <td>0</td>\n",
              "      <td>0</td>\n",
              "      <td>0</td>\n",
              "      <td>0</td>\n",
              "      <td>0</td>\n",
              "      <td>0</td>\n",
              "      <td>0</td>\n",
              "      <td>0</td>\n",
              "      <td>0</td>\n",
              "      <td>0</td>\n",
              "      <td>0</td>\n",
              "      <td>0</td>\n",
              "      <td>0</td>\n",
              "      <td>1</td>\n",
              "    </tr>\n",
              "    <tr>\n",
              "      <th>465</th>\n",
              "      <td>NaN</td>\n",
              "      <td>El Salvador</td>\n",
              "      <td>13.7942</td>\n",
              "      <td>-88.8965</td>\n",
              "      <td>0</td>\n",
              "      <td>0</td>\n",
              "      <td>0</td>\n",
              "      <td>0</td>\n",
              "      <td>0</td>\n",
              "      <td>0</td>\n",
              "      <td>0</td>\n",
              "      <td>0</td>\n",
              "      <td>0</td>\n",
              "      <td>0</td>\n",
              "      <td>0</td>\n",
              "      <td>0</td>\n",
              "      <td>0</td>\n",
              "      <td>0</td>\n",
              "      <td>0</td>\n",
              "      <td>0</td>\n",
              "      <td>0</td>\n",
              "      <td>0</td>\n",
              "      <td>0</td>\n",
              "      <td>0</td>\n",
              "      <td>0</td>\n",
              "      <td>0</td>\n",
              "      <td>0</td>\n",
              "      <td>0</td>\n",
              "      <td>0</td>\n",
              "      <td>0</td>\n",
              "      <td>0</td>\n",
              "      <td>0</td>\n",
              "      <td>0</td>\n",
              "      <td>0</td>\n",
              "      <td>0</td>\n",
              "      <td>0</td>\n",
              "      <td>0</td>\n",
              "      <td>0</td>\n",
              "      <td>0</td>\n",
              "      <td>0</td>\n",
              "      <td>0</td>\n",
              "      <td>0</td>\n",
              "      <td>0</td>\n",
              "      <td>0</td>\n",
              "      <td>0</td>\n",
              "      <td>0</td>\n",
              "      <td>0</td>\n",
              "      <td>0</td>\n",
              "      <td>0</td>\n",
              "      <td>0</td>\n",
              "      <td>0</td>\n",
              "      <td>0</td>\n",
              "      <td>0</td>\n",
              "      <td>0</td>\n",
              "      <td>0</td>\n",
              "      <td>0</td>\n",
              "      <td>0</td>\n",
              "      <td>0</td>\n",
              "      <td>0</td>\n",
              "      <td>0</td>\n",
              "      <td>0</td>\n",
              "      <td>1</td>\n",
              "    </tr>\n",
              "    <tr>\n",
              "      <th>466</th>\n",
              "      <td>NaN</td>\n",
              "      <td>Fiji</td>\n",
              "      <td>-17.7134</td>\n",
              "      <td>178.0650</td>\n",
              "      <td>0</td>\n",
              "      <td>0</td>\n",
              "      <td>0</td>\n",
              "      <td>0</td>\n",
              "      <td>0</td>\n",
              "      <td>0</td>\n",
              "      <td>0</td>\n",
              "      <td>0</td>\n",
              "      <td>0</td>\n",
              "      <td>0</td>\n",
              "      <td>0</td>\n",
              "      <td>0</td>\n",
              "      <td>0</td>\n",
              "      <td>0</td>\n",
              "      <td>0</td>\n",
              "      <td>0</td>\n",
              "      <td>0</td>\n",
              "      <td>0</td>\n",
              "      <td>0</td>\n",
              "      <td>0</td>\n",
              "      <td>0</td>\n",
              "      <td>0</td>\n",
              "      <td>0</td>\n",
              "      <td>0</td>\n",
              "      <td>0</td>\n",
              "      <td>0</td>\n",
              "      <td>0</td>\n",
              "      <td>0</td>\n",
              "      <td>0</td>\n",
              "      <td>0</td>\n",
              "      <td>0</td>\n",
              "      <td>0</td>\n",
              "      <td>0</td>\n",
              "      <td>0</td>\n",
              "      <td>0</td>\n",
              "      <td>0</td>\n",
              "      <td>0</td>\n",
              "      <td>0</td>\n",
              "      <td>0</td>\n",
              "      <td>0</td>\n",
              "      <td>0</td>\n",
              "      <td>0</td>\n",
              "      <td>0</td>\n",
              "      <td>0</td>\n",
              "      <td>0</td>\n",
              "      <td>0</td>\n",
              "      <td>0</td>\n",
              "      <td>0</td>\n",
              "      <td>0</td>\n",
              "      <td>0</td>\n",
              "      <td>0</td>\n",
              "      <td>0</td>\n",
              "      <td>0</td>\n",
              "      <td>0</td>\n",
              "      <td>0</td>\n",
              "      <td>0</td>\n",
              "      <td>0</td>\n",
              "      <td>1</td>\n",
              "    </tr>\n",
              "    <tr>\n",
              "      <th>467</th>\n",
              "      <td>NaN</td>\n",
              "      <td>Nicaragua</td>\n",
              "      <td>12.8654</td>\n",
              "      <td>-85.2072</td>\n",
              "      <td>0</td>\n",
              "      <td>0</td>\n",
              "      <td>0</td>\n",
              "      <td>0</td>\n",
              "      <td>0</td>\n",
              "      <td>0</td>\n",
              "      <td>0</td>\n",
              "      <td>0</td>\n",
              "      <td>0</td>\n",
              "      <td>0</td>\n",
              "      <td>0</td>\n",
              "      <td>0</td>\n",
              "      <td>0</td>\n",
              "      <td>0</td>\n",
              "      <td>0</td>\n",
              "      <td>0</td>\n",
              "      <td>0</td>\n",
              "      <td>0</td>\n",
              "      <td>0</td>\n",
              "      <td>0</td>\n",
              "      <td>0</td>\n",
              "      <td>0</td>\n",
              "      <td>0</td>\n",
              "      <td>0</td>\n",
              "      <td>0</td>\n",
              "      <td>0</td>\n",
              "      <td>0</td>\n",
              "      <td>0</td>\n",
              "      <td>0</td>\n",
              "      <td>0</td>\n",
              "      <td>0</td>\n",
              "      <td>0</td>\n",
              "      <td>0</td>\n",
              "      <td>0</td>\n",
              "      <td>0</td>\n",
              "      <td>0</td>\n",
              "      <td>0</td>\n",
              "      <td>0</td>\n",
              "      <td>0</td>\n",
              "      <td>0</td>\n",
              "      <td>0</td>\n",
              "      <td>0</td>\n",
              "      <td>0</td>\n",
              "      <td>0</td>\n",
              "      <td>0</td>\n",
              "      <td>0</td>\n",
              "      <td>0</td>\n",
              "      <td>0</td>\n",
              "      <td>0</td>\n",
              "      <td>0</td>\n",
              "      <td>0</td>\n",
              "      <td>0</td>\n",
              "      <td>0</td>\n",
              "      <td>0</td>\n",
              "      <td>0</td>\n",
              "      <td>0</td>\n",
              "      <td>0</td>\n",
              "      <td>1</td>\n",
              "    </tr>\n",
              "  </tbody>\n",
              "</table>\n",
              "</div>"
            ],
            "text/plain": [
              "    Province/State  Country/Region      Lat  ...  3/17/20  3/18/20  3/19/20\n",
              "463        Bermuda  United Kingdom  32.3078  ...        0        0        2\n",
              "464            NaN            Chad  15.4542  ...        0        0        1\n",
              "465            NaN     El Salvador  13.7942  ...        0        0        1\n",
              "466            NaN            Fiji -17.7134  ...        0        0        1\n",
              "467            NaN       Nicaragua  12.8654  ...        0        0        1\n",
              "\n",
              "[5 rows x 62 columns]"
            ]
          },
          "metadata": {
            "tags": []
          },
          "execution_count": 24
        }
      ]
    },
    {
      "cell_type": "code",
      "metadata": {
        "id": "Nva0Kv6bDJ84",
        "colab_type": "code",
        "colab": {}
      },
      "source": [
        "casosItalia = casos[casos['Country/Region'] == 'Italy']\n",
        "mortesItalia = mortes[casos['Country/Region'] == 'Italy']\n",
        "recuperacaoItalia = recuperados[casos['Country/Region'] == 'Italy']"
      ],
      "execution_count": 0,
      "outputs": []
    },
    {
      "cell_type": "code",
      "metadata": {
        "id": "Q3GhOAMODrdu",
        "colab_type": "code",
        "colab": {
          "base_uri": "https://localhost:8080/",
          "height": 119
        },
        "outputId": "a00364ee-1b61-4cf6-c0bb-2f60695c9edf"
      },
      "source": [
        "casosItalia = np.sum(casosItalia.iloc[:,4:casosItalia.shape[1]])\n",
        "casosItalia.index = pd.DatetimeIndex(casosItalia.index)\n",
        "casosItalia.tail()"
      ],
      "execution_count": 71,
      "outputs": [
        {
          "output_type": "execute_result",
          "data": {
            "text/plain": [
              "2020-03-15    24747\n",
              "2020-03-16    27980\n",
              "2020-03-17    31506\n",
              "2020-03-18    35713\n",
              "2020-03-19    41035\n",
              "dtype: int64"
            ]
          },
          "metadata": {
            "tags": []
          },
          "execution_count": 71
        }
      ]
    },
    {
      "cell_type": "code",
      "metadata": {
        "id": "0wHKKrU-ESmw",
        "colab_type": "code",
        "colab": {
          "base_uri": "https://localhost:8080/",
          "height": 119
        },
        "outputId": "63379834-a31a-4cb8-a907-b8abc2f12618"
      },
      "source": [
        "mortesItalia = np.sum(mortesItalia.iloc[:,4:mortesItalia.shape[1]])\n",
        "mortesItalia.index = pd.DatetimeIndex(mortesItalia.index)\n",
        "mortesItalia.tail()"
      ],
      "execution_count": 72,
      "outputs": [
        {
          "output_type": "execute_result",
          "data": {
            "text/plain": [
              "2020-03-15    1809\n",
              "2020-03-16    2158\n",
              "2020-03-17    2503\n",
              "2020-03-18    2978\n",
              "2020-03-19    3405\n",
              "dtype: int64"
            ]
          },
          "metadata": {
            "tags": []
          },
          "execution_count": 72
        }
      ]
    },
    {
      "cell_type": "code",
      "metadata": {
        "id": "DP96b8xJEdtx",
        "colab_type": "code",
        "colab": {
          "base_uri": "https://localhost:8080/",
          "height": 119
        },
        "outputId": "4f6626ee-6bfd-4ada-eac5-cf86f8f642eb"
      },
      "source": [
        "recuperacaoItalia = np.sum(recuperacaoItalia.iloc[:,4:recuperacaoItalia.shape[1]])\n",
        "recuperacaoItalia.index = pd.DatetimeIndex(recuperacaoItalia.index)\n",
        "recuperacaoItalia.tail()"
      ],
      "execution_count": 73,
      "outputs": [
        {
          "output_type": "execute_result",
          "data": {
            "text/plain": [
              "2020-03-15    2335\n",
              "2020-03-16    2749\n",
              "2020-03-17    2941\n",
              "2020-03-18    4025\n",
              "2020-03-19    4440\n",
              "dtype: int64"
            ]
          },
          "metadata": {
            "tags": []
          },
          "execution_count": 73
        }
      ]
    },
    {
      "cell_type": "code",
      "metadata": {
        "id": "fzaolKxzEq-n",
        "colab_type": "code",
        "colab": {
          "base_uri": "https://localhost:8080/",
          "height": 301
        },
        "outputId": "84177274-e8bc-4c44-e59f-2f2cf5424f4d"
      },
      "source": [
        "    plt.plot(casosItalia, color = 'black', label = 'Casos')\n",
        "    plt.plot(mortesItalia, color = 'red', label = 'Mortes')\n",
        "    plt.plot(recuperacaoItalia, color = 'green', label = 'Recuperados')\n",
        "    plt.xlabel('Dias')\n",
        "    plt.ylabel('Número')\n",
        "    plt.title('COVID-19 na Itália')\n",
        "    plt.legend()\n",
        "    plt.gcf().autofmt_xdate()\n",
        "    plt.show()"
      ],
      "execution_count": 36,
      "outputs": [
        {
          "output_type": "display_data",
          "data": {
            "image/png": "[encoded data removed]",
            "text/plain": [
              "<Figure size 432x288 with 1 Axes>"
            ]
          },
          "metadata": {
            "tags": []
          }
        }
      ]
    },
    {
      "cell_type": "code",
      "metadata": {
        "id": "Hk28a1GeHOL7",
        "colab_type": "code",
        "colab": {
          "base_uri": "https://localhost:8080/",
          "height": 318
        },
        "outputId": "fba4f5e1-c216-4d03-a7d8-02d20d291b03"
      },
      "source": [
        "    mortalidade = (mortesItalia/casosItalia)*100\n",
        "    plt.plot(mortalidade, color = 'black')\n",
        "    plt.xlabel('Dias')\n",
        "    plt.ylabel('Taxa de Mortalidade')\n",
        "    plt.title('COVID-19 na Itália')\n",
        "    plt.legend()\n",
        "    plt.gcf().autofmt_xdate()\n",
        "    plt.show()"
      ],
      "execution_count": 45,
      "outputs": [
        {
          "output_type": "stream",
          "text": [
            "No handles with labels found to put in legend.\n"
          ],
          "name": "stderr"
        },
        {
          "output_type": "display_data",
          "data": {
            "image/png": "[encoded data removed]",
            "text/plain": [
              "<Figure size 432x288 with 1 Axes>"
            ]
          },
          "metadata": {
            "tags": []
          }
        }
      ]
    },
    {
      "cell_type": "markdown",
      "metadata": {
        "id": "higtQQiJFPyZ",
        "colab_type": "text"
      },
      "source": [
        "# **Casos Brasil**"
      ]
    },
    {
      "cell_type": "code",
      "metadata": {
        "id": "Fz6DSkhqFS5-",
        "colab_type": "code",
        "colab": {}
      },
      "source": [
        "casosBrasil = casos[casos['Country/Region'] == 'Brazil']\n",
        "mortesBrasil = mortes[casos['Country/Region'] == 'Brazil']\n",
        "recuperacaoBrasil = recuperados[casos['Country/Region'] == 'Brazil']"
      ],
      "execution_count": 0,
      "outputs": []
    },
    {
      "cell_type": "code",
      "metadata": {
        "id": "NgA9I1wsFe9l",
        "colab_type": "code",
        "colab": {
          "base_uri": "https://localhost:8080/",
          "height": 119
        },
        "outputId": "6433e445-54e5-424f-cd5b-1972c99ade48"
      },
      "source": [
        "casosBrasil = np.sum(casosBrasil.iloc[:,4:casosBrasil.shape[1]])\n",
        "casosBrasil.index = pd.DatetimeIndex(casosBrasil.index)\n",
        "casosBrasil.tail()"
      ],
      "execution_count": 75,
      "outputs": [
        {
          "output_type": "execute_result",
          "data": {
            "text/plain": [
              "2020-03-15    162\n",
              "2020-03-16    200\n",
              "2020-03-17    321\n",
              "2020-03-18    372\n",
              "2020-03-19    621\n",
              "dtype: int64"
            ]
          },
          "metadata": {
            "tags": []
          },
          "execution_count": 75
        }
      ]
    },
    {
      "cell_type": "code",
      "metadata": {
        "id": "nWiocoKuFqd4",
        "colab_type": "code",
        "colab": {
          "base_uri": "https://localhost:8080/",
          "height": 119
        },
        "outputId": "a3c9de64-397e-4da0-b37a-a6f541b3580e"
      },
      "source": [
        "mortesBrasil = np.sum(mortesBrasil.iloc[:,4:mortesBrasil.shape[1]])\n",
        "mortesBrasil.index = pd.DatetimeIndex(mortesBrasil.index)\n",
        "mortesBrasil.tail()"
      ],
      "execution_count": 76,
      "outputs": [
        {
          "output_type": "execute_result",
          "data": {
            "text/plain": [
              "2020-03-15    0\n",
              "2020-03-16    0\n",
              "2020-03-17    1\n",
              "2020-03-18    3\n",
              "2020-03-19    6\n",
              "dtype: int64"
            ]
          },
          "metadata": {
            "tags": []
          },
          "execution_count": 76
        }
      ]
    },
    {
      "cell_type": "code",
      "metadata": {
        "id": "55djYd2dFxY5",
        "colab_type": "code",
        "colab": {
          "base_uri": "https://localhost:8080/",
          "height": 119
        },
        "outputId": "87d8d389-65b0-470c-b99a-704bb53031f4"
      },
      "source": [
        "recuperacaoBrasil = np.sum(recuperacaoBrasil.iloc[:,4:recuperacaoBrasil.shape[1]])\n",
        "recuperacaoBrasil.index = pd.DatetimeIndex(recuperacaoBrasil.index)\n",
        "recuperacaoBrasil.tail()"
      ],
      "execution_count": 77,
      "outputs": [
        {
          "output_type": "execute_result",
          "data": {
            "text/plain": [
              "2020-03-15    0\n",
              "2020-03-16    1\n",
              "2020-03-17    2\n",
              "2020-03-18    2\n",
              "2020-03-19    2\n",
              "dtype: int64"
            ]
          },
          "metadata": {
            "tags": []
          },
          "execution_count": 77
        }
      ]
    },
    {
      "cell_type": "code",
      "metadata": {
        "id": "61ReqIb7F50Q",
        "colab_type": "code",
        "colab": {
          "base_uri": "https://localhost:8080/",
          "height": 301
        },
        "outputId": "4218c241-2e86-4289-9774-eb060a44ec94"
      },
      "source": [
        "    plt.plot(casosBrasil, color = 'black', label = 'Casos')\n",
        "    plt.plot(mortesBrasil, color = 'red', label = 'Mortes')\n",
        "    plt.plot(recuperacaoBrasil, color = 'green', label = 'Recuperados')\n",
        "    plt.xlabel('Dias')\n",
        "    plt.ylabel('Número')\n",
        "    plt.title('COVID-19 no Brasil')\n",
        "    plt.legend()\n",
        "    plt.gcf().autofmt_xdate()\n",
        "    plt.show()"
      ],
      "execution_count": 42,
      "outputs": [
        {
          "output_type": "display_data",
          "data": {
            "image/png": "[encoded data removed]",
            "text/plain": [
              "<Figure size 432x288 with 1 Axes>"
            ]
          },
          "metadata": {
            "tags": []
          }
        }
      ]
    },
    {
      "cell_type": "code",
      "metadata": {
        "id": "NHTfpT1GILaH",
        "colab_type": "code",
        "colab": {
          "base_uri": "https://localhost:8080/",
          "height": 318
        },
        "outputId": "6d32ddb6-2678-4ce6-bd9b-06f5e594ff9c"
      },
      "source": [
        "    mortalidade = (mortesBrasil/casosBrasil)*100\n",
        "    plt.plot(mortalidade, color = 'black')\n",
        "    plt.xlabel('Dias')\n",
        "    plt.ylabel('Taxa de Mortalidade')\n",
        "    plt.title('COVID-19 no Brasil')\n",
        "    plt.legend()\n",
        "    plt.gcf().autofmt_xdate()\n",
        "    plt.show()"
      ],
      "execution_count": 61,
      "outputs": [
        {
          "output_type": "stream",
          "text": [
            "No handles with labels found to put in legend.\n"
          ],
          "name": "stderr"
        },
        {
          "output_type": "display_data",
          "data": {
            "image/png": "[encoded data removed]",
            "text/plain": [
              "<Figure size 432x288 with 1 Axes>"
            ]
          },
          "metadata": {
            "tags": []
          }
        }
      ]
    },
    {
      "cell_type": "code",
      "metadata": {
        "id": "JveX3mXyKe1O",
        "colab_type": "code",
        "colab": {
          "base_uri": "https://localhost:8080/",
          "height": 301
        },
        "outputId": "d06bd852-90c5-465c-a6e8-76de4b208fd5"
      },
      "source": [
        "    plt.plot(casosBrasil, color = 'green', label = 'Brasil')\n",
        "    plt.plot(casosItalia, color = 'red', label = 'Itália')\n",
        "    plt.xlabel('Dias')\n",
        "    plt.ylabel('Número')\n",
        "    plt.title('Número de Casos COVID-19 Brasil X Itália')\n",
        "    plt.legend()\n",
        "    plt.gcf().autofmt_xdate()\n",
        "    plt.show()"
      ],
      "execution_count": 80,
      "outputs": [
        {
          "output_type": "display_data",
          "data": {
            "image/png": "[encoded data removed]",
            "text/plain": [
              "<Figure size 432x288 with 1 Axes>"
            ]
          },
          "metadata": {
            "tags": []
          }
        }
      ]
    },
    {
      "cell_type": "code",
      "metadata": {
        "id": "QQyxhMJTMr-L",
        "colab_type": "code",
        "colab": {}
      },
      "source": [
        "\n"
      ],
      "execution_count": 0,
      "outputs": []
    },
    {
      "cell_type": "code",
      "metadata": {
        "id": "SuXp75NkK5GR",
        "colab_type": "code",
        "colab": {
          "base_uri": "https://localhost:8080/",
          "height": 425
        },
        "outputId": "cab15883-1c18-4eff-ab21-b38e6af4adfc"
      },
      "source": [
        "newIndex = pd.Index(range(1, len(casosBrasil[casosBrasil >0])+1))\n",
        "sereisCasosBrasil = pd.Series(casosBrasil[casosBrasil >0])\n",
        "sereisCasosBrasil.index = newIndex\n",
        "sereisCasosBrasil"
      ],
      "execution_count": 100,
      "outputs": [
        {
          "output_type": "execute_result",
          "data": {
            "text/plain": [
              "1       1\n",
              "2       1\n",
              "3       1\n",
              "4       2\n",
              "5       2\n",
              "6       2\n",
              "7       2\n",
              "8       4\n",
              "9       4\n",
              "10     13\n",
              "11     13\n",
              "12     20\n",
              "13     25\n",
              "14     31\n",
              "15     38\n",
              "16     52\n",
              "17    151\n",
              "18    151\n",
              "19    162\n",
              "20    200\n",
              "21    321\n",
              "22    372\n",
              "23    621\n",
              "dtype: int64"
            ]
          },
          "metadata": {
            "tags": []
          },
          "execution_count": 100
        }
      ]
    },
    {
      "cell_type": "code",
      "metadata": {
        "id": "G-hDPJPgLKAK",
        "colab_type": "code",
        "colab": {
          "base_uri": "https://localhost:8080/",
          "height": 867
        },
        "outputId": "b5c6f103-7111-49e3-c96e-bdc521458e90"
      },
      "source": [
        "newIndex = pd.Index(range(1, len(casosItalia[casosItalia >0])+1))\n",
        "sereisCasosItalia = pd.Series(casosItalia[casosItalia >0])\n",
        "sereisCasosItalia.index = newIndex\n",
        "sereisCasosItalia"
      ],
      "execution_count": 101,
      "outputs": [
        {
          "output_type": "execute_result",
          "data": {
            "text/plain": [
              "1         2\n",
              "2         2\n",
              "3         2\n",
              "4         2\n",
              "5         2\n",
              "6         2\n",
              "7         2\n",
              "8         3\n",
              "9         3\n",
              "10        3\n",
              "11        3\n",
              "12        3\n",
              "13        3\n",
              "14        3\n",
              "15        3\n",
              "16        3\n",
              "17        3\n",
              "18        3\n",
              "19        3\n",
              "20        3\n",
              "21        3\n",
              "22       20\n",
              "23       62\n",
              "24      155\n",
              "25      229\n",
              "26      322\n",
              "27      453\n",
              "28      655\n",
              "29      888\n",
              "30     1128\n",
              "31     1694\n",
              "32     2036\n",
              "33     2502\n",
              "34     3089\n",
              "35     3858\n",
              "36     4636\n",
              "37     5883\n",
              "38     7375\n",
              "39     9172\n",
              "40    10149\n",
              "41    12462\n",
              "42    12462\n",
              "43    17660\n",
              "44    21157\n",
              "45    24747\n",
              "46    27980\n",
              "47    31506\n",
              "48    35713\n",
              "49    41035\n",
              "dtype: int64"
            ]
          },
          "metadata": {
            "tags": []
          },
          "execution_count": 101
        }
      ]
    },
    {
      "cell_type": "code",
      "metadata": {
        "id": "a7x4vK7lN5D2",
        "colab_type": "code",
        "colab": {
          "base_uri": "https://localhost:8080/",
          "height": 279
        },
        "outputId": "e2a7498d-b151-417b-b36c-13c4186cffa5"
      },
      "source": [
        "    plt.plot(sereisCasosBrasil, color = 'green', label = 'Brasil')\n",
        "    plt.plot(sereisCasosItalia, color = 'red', label = 'Itália')\n",
        "    plt.xlabel('Dias')\n",
        "    plt.ylabel('Número')\n",
        "    plt.title('Número de Casos COVID-19 Brasil X Itália')\n",
        "    plt.legend()\n",
        "    plt.gcf().autofmt_xdate()\n",
        "    plt.show()"
      ],
      "execution_count": 102,
      "outputs": [
        {
          "output_type": "display_data",
          "data": {
            "image/png": "[encoded data removed]",
            "text/plain": [
              "<Figure size 432x288 with 1 Axes>"
            ]
          },
          "metadata": {
            "tags": []
          }
        }
      ]
    },
    {
      "cell_type": "code",
      "metadata": {
        "id": "bOk5Q_koZLWL",
        "colab_type": "code",
        "colab": {}
      },
      "source": [
        ""
      ],
      "execution_count": 0,
      "outputs": []
    },
    {
      "cell_type": "code",
      "metadata": {
        "colab_type": "code",
        "id": "Lo5C5SrrZOVF",
        "colab": {}
      },
      "source": [
        "casos = pd.read_csv('https://raw.githubusercontent.com/CSSEGISandData/COVID-19/master/csse_covid_19_data/csse_covid_19_time_series/time_series_19-covid-Confirmed.csv')\n",
        "mortes = pd.read_csv('https://raw.githubusercontent.com/CSSEGISandData/COVID-19/master/csse_covid_19_data/csse_covid_19_time_series/time_series_19-covid-Deaths.csv')\n",
        "recuperados = pd.read_csv('https://raw.githubusercontent.com/CSSEGISandData/COVID-19/master/csse_covid_19_data/csse_covid_19_time_series/time_series_19-covid-Recovered.csv')"
      ],
      "execution_count": 0,
      "outputs": []
    },
    {
      "cell_type": "code",
      "metadata": {
        "colab_type": "code",
        "outputId": "77d3801c-e350-4aac-f764-33854df3ac6a",
        "id": "kw9kOaXlZOVL",
        "colab": {
          "base_uri": "https://localhost:8080/",
          "height": 224
        }
      },
      "source": [
        "casos.tail()"
      ],
      "execution_count": 0,
      "outputs": [
        {
          "output_type": "execute_result",
          "data": {
            "text/html": [
              "<div>\n",
              "<style scoped>\n",
              "    .dataframe tbody tr th:only-of-type {\n",
              "        vertical-align: middle;\n",
              "    }\n",
              "\n",
              "    .dataframe tbody tr th {\n",
              "        vertical-align: top;\n",
              "    }\n",
              "\n",
              "    .dataframe thead th {\n",
              "        text-align: right;\n",
              "    }\n",
              "</style>\n",
              "<table border=\"1\" class=\"dataframe\">\n",
              "  <thead>\n",
              "    <tr style=\"text-align: right;\">\n",
              "      <th></th>\n",
              "      <th>Province/State</th>\n",
              "      <th>Country/Region</th>\n",
              "      <th>Lat</th>\n",
              "      <th>Long</th>\n",
              "      <th>1/22/20</th>\n",
              "      <th>1/23/20</th>\n",
              "      <th>1/24/20</th>\n",
              "      <th>1/25/20</th>\n",
              "      <th>1/26/20</th>\n",
              "      <th>1/27/20</th>\n",
              "      <th>1/28/20</th>\n",
              "      <th>1/29/20</th>\n",
              "      <th>1/30/20</th>\n",
              "      <th>1/31/20</th>\n",
              "      <th>2/1/20</th>\n",
              "      <th>2/2/20</th>\n",
              "      <th>2/3/20</th>\n",
              "      <th>2/4/20</th>\n",
              "      <th>2/5/20</th>\n",
              "      <th>2/6/20</th>\n",
              "      <th>2/7/20</th>\n",
              "      <th>2/8/20</th>\n",
              "      <th>2/9/20</th>\n",
              "      <th>2/10/20</th>\n",
              "      <th>2/11/20</th>\n",
              "      <th>2/12/20</th>\n",
              "      <th>2/13/20</th>\n",
              "      <th>2/14/20</th>\n",
              "      <th>2/15/20</th>\n",
              "      <th>2/16/20</th>\n",
              "      <th>2/17/20</th>\n",
              "      <th>2/18/20</th>\n",
              "      <th>2/19/20</th>\n",
              "      <th>2/20/20</th>\n",
              "      <th>2/21/20</th>\n",
              "      <th>2/22/20</th>\n",
              "      <th>2/23/20</th>\n",
              "      <th>2/24/20</th>\n",
              "      <th>2/25/20</th>\n",
              "      <th>2/26/20</th>\n",
              "      <th>2/27/20</th>\n",
              "      <th>2/28/20</th>\n",
              "      <th>2/29/20</th>\n",
              "      <th>3/1/20</th>\n",
              "      <th>3/2/20</th>\n",
              "      <th>3/3/20</th>\n",
              "      <th>3/4/20</th>\n",
              "      <th>3/5/20</th>\n",
              "      <th>3/6/20</th>\n",
              "      <th>3/7/20</th>\n",
              "      <th>3/8/20</th>\n",
              "      <th>3/9/20</th>\n",
              "      <th>3/10/20</th>\n",
              "      <th>3/11/20</th>\n",
              "      <th>3/12/20</th>\n",
              "      <th>3/13/20</th>\n",
              "      <th>3/14/20</th>\n",
              "      <th>3/15/20</th>\n",
              "      <th>3/16/20</th>\n",
              "      <th>3/17/20</th>\n",
              "      <th>3/18/20</th>\n",
              "      <th>3/19/20</th>\n",
              "    </tr>\n",
              "  </thead>\n",
              "  <tbody>\n",
              "    <tr>\n",
              "      <th>463</th>\n",
              "      <td>Bermuda</td>\n",
              "      <td>United Kingdom</td>\n",
              "      <td>32.3078</td>\n",
              "      <td>-64.7505</td>\n",
              "      <td>0</td>\n",
              "      <td>0</td>\n",
              "      <td>0</td>\n",
              "      <td>0</td>\n",
              "      <td>0</td>\n",
              "      <td>0</td>\n",
              "      <td>0</td>\n",
              "      <td>0</td>\n",
              "      <td>0</td>\n",
              "      <td>0</td>\n",
              "      <td>0</td>\n",
              "      <td>0</td>\n",
              "      <td>0</td>\n",
              "      <td>0</td>\n",
              "      <td>0</td>\n",
              "      <td>0</td>\n",
              "      <td>0</td>\n",
              "      <td>0</td>\n",
              "      <td>0</td>\n",
              "      <td>0</td>\n",
              "      <td>0</td>\n",
              "      <td>0</td>\n",
              "      <td>0</td>\n",
              "      <td>0</td>\n",
              "      <td>0</td>\n",
              "      <td>0</td>\n",
              "      <td>0</td>\n",
              "      <td>0</td>\n",
              "      <td>0</td>\n",
              "      <td>0</td>\n",
              "      <td>0</td>\n",
              "      <td>0</td>\n",
              "      <td>0</td>\n",
              "      <td>0</td>\n",
              "      <td>0</td>\n",
              "      <td>0</td>\n",
              "      <td>0</td>\n",
              "      <td>0</td>\n",
              "      <td>0</td>\n",
              "      <td>0</td>\n",
              "      <td>0</td>\n",
              "      <td>0</td>\n",
              "      <td>0</td>\n",
              "      <td>0</td>\n",
              "      <td>0</td>\n",
              "      <td>0</td>\n",
              "      <td>0</td>\n",
              "      <td>0</td>\n",
              "      <td>0</td>\n",
              "      <td>0</td>\n",
              "      <td>0</td>\n",
              "      <td>0</td>\n",
              "      <td>0</td>\n",
              "      <td>0</td>\n",
              "      <td>0</td>\n",
              "      <td>0</td>\n",
              "      <td>0</td>\n",
              "      <td>2</td>\n",
              "    </tr>\n",
              "    <tr>\n",
              "      <th>464</th>\n",
              "      <td>NaN</td>\n",
              "      <td>Chad</td>\n",
              "      <td>15.4542</td>\n",
              "      <td>18.7322</td>\n",
              "      <td>0</td>\n",
              "      <td>0</td>\n",
              "      <td>0</td>\n",
              "      <td>0</td>\n",
              "      <td>0</td>\n",
              "      <td>0</td>\n",
              "      <td>0</td>\n",
              "      <td>0</td>\n",
              "      <td>0</td>\n",
              "      <td>0</td>\n",
              "      <td>0</td>\n",
              "      <td>0</td>\n",
              "      <td>0</td>\n",
              "      <td>0</td>\n",
              "      <td>0</td>\n",
              "      <td>0</td>\n",
              "      <td>0</td>\n",
              "      <td>0</td>\n",
              "      <td>0</td>\n",
              "      <td>0</td>\n",
              "      <td>0</td>\n",
              "      <td>0</td>\n",
              "      <td>0</td>\n",
              "      <td>0</td>\n",
              "      <td>0</td>\n",
              "      <td>0</td>\n",
              "      <td>0</td>\n",
              "      <td>0</td>\n",
              "      <td>0</td>\n",
              "      <td>0</td>\n",
              "      <td>0</td>\n",
              "      <td>0</td>\n",
              "      <td>0</td>\n",
              "      <td>0</td>\n",
              "      <td>0</td>\n",
              "      <td>0</td>\n",
              "      <td>0</td>\n",
              "      <td>0</td>\n",
              "      <td>0</td>\n",
              "      <td>0</td>\n",
              "      <td>0</td>\n",
              "      <td>0</td>\n",
              "      <td>0</td>\n",
              "      <td>0</td>\n",
              "      <td>0</td>\n",
              "      <td>0</td>\n",
              "      <td>0</td>\n",
              "      <td>0</td>\n",
              "      <td>0</td>\n",
              "      <td>0</td>\n",
              "      <td>0</td>\n",
              "      <td>0</td>\n",
              "      <td>0</td>\n",
              "      <td>0</td>\n",
              "      <td>0</td>\n",
              "      <td>0</td>\n",
              "      <td>0</td>\n",
              "      <td>1</td>\n",
              "    </tr>\n",
              "    <tr>\n",
              "      <th>465</th>\n",
              "      <td>NaN</td>\n",
              "      <td>El Salvador</td>\n",
              "      <td>13.7942</td>\n",
              "      <td>-88.8965</td>\n",
              "      <td>0</td>\n",
              "      <td>0</td>\n",
              "      <td>0</td>\n",
              "      <td>0</td>\n",
              "      <td>0</td>\n",
              "      <td>0</td>\n",
              "      <td>0</td>\n",
              "      <td>0</td>\n",
              "      <td>0</td>\n",
              "      <td>0</td>\n",
              "      <td>0</td>\n",
              "      <td>0</td>\n",
              "      <td>0</td>\n",
              "      <td>0</td>\n",
              "      <td>0</td>\n",
              "      <td>0</td>\n",
              "      <td>0</td>\n",
              "      <td>0</td>\n",
              "      <td>0</td>\n",
              "      <td>0</td>\n",
              "      <td>0</td>\n",
              "      <td>0</td>\n",
              "      <td>0</td>\n",
              "      <td>0</td>\n",
              "      <td>0</td>\n",
              "      <td>0</td>\n",
              "      <td>0</td>\n",
              "      <td>0</td>\n",
              "      <td>0</td>\n",
              "      <td>0</td>\n",
              "      <td>0</td>\n",
              "      <td>0</td>\n",
              "      <td>0</td>\n",
              "      <td>0</td>\n",
              "      <td>0</td>\n",
              "      <td>0</td>\n",
              "      <td>0</td>\n",
              "      <td>0</td>\n",
              "      <td>0</td>\n",
              "      <td>0</td>\n",
              "      <td>0</td>\n",
              "      <td>0</td>\n",
              "      <td>0</td>\n",
              "      <td>0</td>\n",
              "      <td>0</td>\n",
              "      <td>0</td>\n",
              "      <td>0</td>\n",
              "      <td>0</td>\n",
              "      <td>0</td>\n",
              "      <td>0</td>\n",
              "      <td>0</td>\n",
              "      <td>0</td>\n",
              "      <td>0</td>\n",
              "      <td>0</td>\n",
              "      <td>0</td>\n",
              "      <td>0</td>\n",
              "      <td>0</td>\n",
              "      <td>1</td>\n",
              "    </tr>\n",
              "    <tr>\n",
              "      <th>466</th>\n",
              "      <td>NaN</td>\n",
              "      <td>Fiji</td>\n",
              "      <td>-17.7134</td>\n",
              "      <td>178.0650</td>\n",
              "      <td>0</td>\n",
              "      <td>0</td>\n",
              "      <td>0</td>\n",
              "      <td>0</td>\n",
              "      <td>0</td>\n",
              "      <td>0</td>\n",
              "      <td>0</td>\n",
              "      <td>0</td>\n",
              "      <td>0</td>\n",
              "      <td>0</td>\n",
              "      <td>0</td>\n",
              "      <td>0</td>\n",
              "      <td>0</td>\n",
              "      <td>0</td>\n",
              "      <td>0</td>\n",
              "      <td>0</td>\n",
              "      <td>0</td>\n",
              "      <td>0</td>\n",
              "      <td>0</td>\n",
              "      <td>0</td>\n",
              "      <td>0</td>\n",
              "      <td>0</td>\n",
              "      <td>0</td>\n",
              "      <td>0</td>\n",
              "      <td>0</td>\n",
              "      <td>0</td>\n",
              "      <td>0</td>\n",
              "      <td>0</td>\n",
              "      <td>0</td>\n",
              "      <td>0</td>\n",
              "      <td>0</td>\n",
              "      <td>0</td>\n",
              "      <td>0</td>\n",
              "      <td>0</td>\n",
              "      <td>0</td>\n",
              "      <td>0</td>\n",
              "      <td>0</td>\n",
              "      <td>0</td>\n",
              "      <td>0</td>\n",
              "      <td>0</td>\n",
              "      <td>0</td>\n",
              "      <td>0</td>\n",
              "      <td>0</td>\n",
              "      <td>0</td>\n",
              "      <td>0</td>\n",
              "      <td>0</td>\n",
              "      <td>0</td>\n",
              "      <td>0</td>\n",
              "      <td>0</td>\n",
              "      <td>0</td>\n",
              "      <td>0</td>\n",
              "      <td>0</td>\n",
              "      <td>0</td>\n",
              "      <td>0</td>\n",
              "      <td>0</td>\n",
              "      <td>0</td>\n",
              "      <td>0</td>\n",
              "      <td>1</td>\n",
              "    </tr>\n",
              "    <tr>\n",
              "      <th>467</th>\n",
              "      <td>NaN</td>\n",
              "      <td>Nicaragua</td>\n",
              "      <td>12.8654</td>\n",
              "      <td>-85.2072</td>\n",
              "      <td>0</td>\n",
              "      <td>0</td>\n",
              "      <td>0</td>\n",
              "      <td>0</td>\n",
              "      <td>0</td>\n",
              "      <td>0</td>\n",
              "      <td>0</td>\n",
              "      <td>0</td>\n",
              "      <td>0</td>\n",
              "      <td>0</td>\n",
              "      <td>0</td>\n",
              "      <td>0</td>\n",
              "      <td>0</td>\n",
              "      <td>0</td>\n",
              "      <td>0</td>\n",
              "      <td>0</td>\n",
              "      <td>0</td>\n",
              "      <td>0</td>\n",
              "      <td>0</td>\n",
              "      <td>0</td>\n",
              "      <td>0</td>\n",
              "      <td>0</td>\n",
              "      <td>0</td>\n",
              "      <td>0</td>\n",
              "      <td>0</td>\n",
              "      <td>0</td>\n",
              "      <td>0</td>\n",
              "      <td>0</td>\n",
              "      <td>0</td>\n",
              "      <td>0</td>\n",
              "      <td>0</td>\n",
              "      <td>0</td>\n",
              "      <td>0</td>\n",
              "      <td>0</td>\n",
              "      <td>0</td>\n",
              "      <td>0</td>\n",
              "      <td>0</td>\n",
              "      <td>0</td>\n",
              "      <td>0</td>\n",
              "      <td>0</td>\n",
              "      <td>0</td>\n",
              "      <td>0</td>\n",
              "      <td>0</td>\n",
              "      <td>0</td>\n",
              "      <td>0</td>\n",
              "      <td>0</td>\n",
              "      <td>0</td>\n",
              "      <td>0</td>\n",
              "      <td>0</td>\n",
              "      <td>0</td>\n",
              "      <td>0</td>\n",
              "      <td>0</td>\n",
              "      <td>0</td>\n",
              "      <td>0</td>\n",
              "      <td>0</td>\n",
              "      <td>0</td>\n",
              "      <td>0</td>\n",
              "      <td>1</td>\n",
              "    </tr>\n",
              "  </tbody>\n",
              "</table>\n",
              "</div>"
            ],
            "text/plain": [
              "    Province/State  Country/Region      Lat  ...  3/17/20  3/18/20  3/19/20\n",
              "463        Bermuda  United Kingdom  32.3078  ...        0        0        2\n",
              "464            NaN            Chad  15.4542  ...        0        0        1\n",
              "465            NaN     El Salvador  13.7942  ...        0        0        1\n",
              "466            NaN            Fiji -17.7134  ...        0        0        1\n",
              "467            NaN       Nicaragua  12.8654  ...        0        0        1\n",
              "\n",
              "[5 rows x 62 columns]"
            ]
          },
          "metadata": {
            "tags": []
          },
          "execution_count": 24
        }
      ]
    },
    {
      "cell_type": "code",
      "metadata": {
        "colab_type": "code",
        "id": "9nWxTOEoZOVO",
        "colab": {}
      },
      "source": [
        "casosChina = casos[casos['Country/Region'] == 'China']\n",
        "mortesChina = mortes[casos['Country/Region'] == 'China']\n",
        "recuperacaoChina = recuperados[casos['Country/Region'] == 'China']"
      ],
      "execution_count": 0,
      "outputs": []
    },
    {
      "cell_type": "code",
      "metadata": {
        "colab_type": "code",
        "outputId": "0037b160-4c67-4ad4-8610-a95e5b0eb76a",
        "id": "dKBuKXvWZOVQ",
        "colab": {
          "base_uri": "https://localhost:8080/",
          "height": 119
        }
      },
      "source": [
        "casosChina = np.sum(casosChina.iloc[:,4:casosChina.shape[1]])\n",
        "casosChina.index = pd.DatetimeIndex(casosChina.index)\n",
        "casosChina.tail()"
      ],
      "execution_count": 105,
      "outputs": [
        {
          "output_type": "execute_result",
          "data": {
            "text/plain": [
              "2020-03-15    81003\n",
              "2020-03-16    81033\n",
              "2020-03-17    81058\n",
              "2020-03-18    81102\n",
              "2020-03-19    81156\n",
              "dtype: int64"
            ]
          },
          "metadata": {
            "tags": []
          },
          "execution_count": 105
        }
      ]
    },
    {
      "cell_type": "code",
      "metadata": {
        "colab_type": "code",
        "outputId": "6a68619c-8887-4b52-a22e-884aef1a7c4b",
        "id": "KZlq3PJuZOVT",
        "colab": {
          "base_uri": "https://localhost:8080/",
          "height": 119
        }
      },
      "source": [
        "mortesChina = np.sum(mortesChina.iloc[:,4:mortesChina.shape[1]])\n",
        "mortesChina.index = pd.DatetimeIndex(mortesChina.index)\n",
        "mortesChina.tail()"
      ],
      "execution_count": 106,
      "outputs": [
        {
          "output_type": "execute_result",
          "data": {
            "text/plain": [
              "2020-03-15    3203\n",
              "2020-03-16    3217\n",
              "2020-03-17    3230\n",
              "2020-03-18    3241\n",
              "2020-03-19    3249\n",
              "dtype: int64"
            ]
          },
          "metadata": {
            "tags": []
          },
          "execution_count": 106
        }
      ]
    },
    {
      "cell_type": "code",
      "metadata": {
        "colab_type": "code",
        "outputId": "b752bee3-3d95-4553-832b-0784fb8a55d9",
        "id": "R2L4dp8cZOVV",
        "colab": {
          "base_uri": "https://localhost:8080/",
          "height": 119
        }
      },
      "source": [
        "recuperacaoChina = np.sum(recuperacaoChina.iloc[:,4:recuperacaoChina.shape[1]])\n",
        "recuperacaoChina.index = pd.DatetimeIndex(recuperacaoChina.index)\n",
        "recuperacaoChina.tail()"
      ],
      "execution_count": 107,
      "outputs": [
        {
          "output_type": "execute_result",
          "data": {
            "text/plain": [
              "2020-03-15    67017\n",
              "2020-03-16    67910\n",
              "2020-03-17    68798\n",
              "2020-03-18    69755\n",
              "2020-03-19    70535\n",
              "dtype: int64"
            ]
          },
          "metadata": {
            "tags": []
          },
          "execution_count": 107
        }
      ]
    },
    {
      "cell_type": "code",
      "metadata": {
        "colab_type": "code",
        "outputId": "b0c58e0f-4861-4642-f9fe-4fd6255436e4",
        "id": "v-yIYBZ6ZOVX",
        "colab": {
          "base_uri": "https://localhost:8080/",
          "height": 301
        }
      },
      "source": [
        "    plt.plot(casosChina, color = 'black', label = 'Casos')\n",
        "    plt.plot(mortesChina, color = 'red', label = 'Mortes')\n",
        "    plt.plot(recuperacaoChina, color = 'green', label = 'Recuperados')\n",
        "    plt.xlabel('Dias')\n",
        "    plt.ylabel('Número')\n",
        "    plt.title('COVID-19 na China')\n",
        "    plt.legend()\n",
        "    plt.gcf().autofmt_xdate()\n",
        "    plt.show()"
      ],
      "execution_count": 108,
      "outputs": [
        {
          "output_type": "display_data",
          "data": {
            "image/png": "[encoded data removed]",
            "text/plain": [
              "<Figure size 432x288 with 1 Axes>"
            ]
          },
          "metadata": {
            "tags": []
          }
        }
      ]
    }
  ]
}